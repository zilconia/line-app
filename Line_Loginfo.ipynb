{
 "cells": [
  {
   "attachments": {},
   "cell_type": "markdown",
   "metadata": {},
   "source": [
    "# Lineに送信される各種イベントのログサンプル"
   ]
  },
  {
   "attachments": {},
   "cell_type": "markdown",
   "metadata": {},
   "source": [
    "## 目次"
   ]
  },
  {
   "attachments": {},
   "cell_type": "markdown",
   "metadata": {},
   "source": [
    "* 後は技術的問題  \n",
    "* 何があったら、どういうサポートをするのか。"
   ]
  },
  {
   "attachments": {},
   "cell_type": "markdown",
   "metadata": {},
   "source": [
    "[メッセージ（対 公式）](#メッセージ_公式)<br>\n",
    "[aa](#スタンプ_gif)"
   ]
  },
  {
   "cell_type": "code",
   "execution_count": 2,
   "metadata": {},
   "outputs": [
    {
     "name": "stdout",
     "output_type": "stream",
     "text": [
      "こんにちは\n",
      "None\n"
     ]
    }
   ],
   "source": [
    "def com(command):\n",
    "    return exec(f\"{command}\")\n",
    "\n",
    "com(input(\"コマンドを入力：\"))"
   ]
  },
  {
   "attachments": {},
   "cell_type": "markdown",
   "metadata": {},
   "source": [
    "## ログ詳細"
   ]
  },
  {
   "attachments": {},
   "cell_type": "markdown",
   "metadata": {},
   "source": [
    "**index.py でログに関係する変数**\n",
    "|変数名|__signature__|__Body__|  \n",
    "| :-: | :-: | :-: |  \n",
    "|変数の内容|イベントの署名用の符号|イベントに関する各種情報|\n",
    "| 出力の変動性 | 出力ごとに変わる | 別記載 |   "
   ]
  },
  {
   "attachments": {},
   "cell_type": "markdown",
   "metadata": {},
   "source": [
    "Lineから送信される情報一覧（Body）\n",
    "|ラベル名|__destination__|__events__|\n",
    "| :-: | :-: | :-: |\n",
    "| 内容 | BotのID？ | イベントに関する詳細 |\n",
    "| 出力の変動制 | 他人・対面・グループ問わず、固定値 | 別記載 |"
   ]
  },
  {
   "attachments": {},
   "cell_type": "markdown",
   "metadata": {},
   "source": [
    "## ログ一覧"
   ]
  },
  {
   "attachments": {},
   "cell_type": "markdown",
   "metadata": {},
   "source": [
    "### WebhookURl検証送信"
   ]
  },
  {
   "attachments": {},
   "cell_type": "markdown",
   "metadata": {},
   "source": [
    "~~~jsonc\n",
    "{\n",
    "    \"displayName\": \"\\u5143\",\n",
    "    \"language\": \"ja\", \n",
    "    \"pictureUrl\": \"https://sprofile.line-scdn.net/0hQYtNp4fnDnZZNyZHxndwCSlnDRx6RldkIVRHEmw-UxNsABt1dVcRRD43A0YzU00gdgMWQGllVU5VJHkQR2HyQl4HUEFjBkEncFZAkw\", \n",
    "    \"statusMessage\": \"\\u30ab\\u30ec\\u30fc\\u30e1\\u30b7\\u3092\\u5d07\\u3081\\u3088\\u2026\\n\\u30ab\\u30ec\\u30fc\\u30e1\\u30b7\\u3092\\u3042\\u304c\\u3081\\u3088\\u3049\\u3049\\u3049\\u3063\\u3063!!!\", \n",
    "    \"userId\": \"Uf6e2c78c0239e0dd23dd613776284c06\"\n",
    "}\n",
    "~~~"
   ]
  },
  {
   "cell_type": "code",
   "execution_count": null,
   "metadata": {},
   "outputs": [],
   "source": [
    "'UvYOjaVrxURBKW67DBmQgtFWVLeqmQenUqXRMDqztFg=' // イベントの署名（signature）\n",
    "{ // イベントの内容（body）\n",
    "    \"destination\": \"U2a2ab21afd4a1c84aa22c17033860dd4\", // BotのIDの可能性？（他人の出力でも同じ）\n",
    "    \"events\": [] // 空のイベント情報\n",
    "}"
   ]
  },
  {
   "cell_type": "code",
   "execution_count": null,
   "metadata": {
    "vscode": {
     "languageId": "javascript"
    }
   },
   "outputs": [],
   "source": [
    "{\n",
    "    \"displayName\": \"\\u5143\",\n",
    "    \"language\": \"ja\",\n",
    "    \"pictureUrl\": \"https://sprofile.line-scdn.net/0hQYtNp4fnDnZZNyZHxndwCSlnDRx6RldkIVRHEmw-UxNsABt1dVcRRD43A0YzU00gdgMWQGllVU5VJHkQR2HyQl4HUEFjBkEncFZAkw\",\n",
    "    \"statusMessage\": \"\\u30ab\\u30ec\\u30fc\\u30e1\\u30b7\\u3092\\u5d07\\u3081\\u3088\\u2026\\n\\u30ab\\u30ec\\u30fc\\u30e1\\u30b7\\u3092\\u3042\\u304c\\u3081\\u3088\\u3049\\u3049\\u3049\\u3063\\u3063!!!\",\n",
    "    \"userId\": \"Uf6e2c78c0239e0dd23dd613776284c06\"\n",
    "}"
   ]
  },
  {
   "cell_type": "code",
   "execution_count": null,
   "metadata": {
    "vscode": {
     "languageId": "javascript"
    }
   },
   "outputs": [],
   "source": [
    "// 公式アカウントとの1対1メッセージ\n",
    "'TJ/Kd3WUXLkQE84ngGU4l62XCHrluIoAKM+nTTlUrlU='\n",
    "'{\n",
    "    \"destination\": \"U2a2ab21afd4a1c84aa22c17033860dd4\",\n",
    "    \"events\": [\n",
    "        {\n",
    "            \"type\": \"message\",\n",
    "            \"message\": {\n",
    "                \"type\": \"text\",\n",
    "                \"id\": \"458182252791857509\",\n",
    "                \"text\": \"hsjsっjw\"\n",
    "            },\n",
    "            \"webhookEventId\": \"01H24KCB08QG2JTV72T618A727\",\n",
    "            \"deliveryContext\": {\n",
    "                \"isRedelivery\": false\n",
    "            },\n",
    "            \"timestamp\": 1685929208335,\n",
    "            \"source\": {\n",
    "                \"type\": \"user\",\n",
    "                \"userId\": \"U3a53e5e96e7d1cfca97724676bf21890\"\n",
    "            },\n",
    "            \"replyToken\": \"0d9aa34aded445f984a7093aad9d4ed5\",\n",
    "            \"mode\": \"active\"\n",
    "        }\n",
    "    ]\n",
    "}'\n",
    "\n",
    "// グループチャットでのコメントに対するトリガー\n",
    "\n",
    "// 入力者１・入力者２・システム この形でログを保存する。\n",
    "// メッセージ・ID\n",
    "'z/xuhzHCPSFqIL1vzuZ0vGooitZa1Abn6jmd60NICEM='\n",
    "'{\n",
    "    \"destination\": \"U2a2ab21afd4a1c84aa22c17033860dd4\",\n",
    "    \"events\": [\n",
    "        {\n",
    "            \"type\": \"message\",\n",
    "            \"message\": {\n",
    "                \"type\": \"text\",\n",
    "                \"id\": \"458182018263155347\",\n",
    "                \"text\": \"vっひhvgy\"\n",
    "            },\n",
    "            \"webhookEventId\": \"01H24K82CFT0M8SK5S76V1200X\",\n",
    "            \"deliveryContext\": {\n",
    "                \"isRedelivery\": false\n",
    "            },\n",
    "            \"timestamp\": 1685929068436,\n",
    "            \"source\": {\n",
    "                \"type\": \"group\",\n",
    "                \"groupId\": \"C36ca878545e1d01e98356fcf5c45b62b\",\n",
    "                \"userId\": \"U3a53e5e96e7d1cfca97724676bf21890\"\n",
    "            },\n",
    "            \"replyToken\": \"b6a681888e5e482fa974658981cc493f\",\n",
    "            \"mode\": \"active\"\n",
    "        }\n",
    "    ]\n",
    "}'"
   ]
  },
  {
   "attachments": {},
   "cell_type": "markdown",
   "metadata": {},
   "source": [
    "### メッセージ_公式"
   ]
  },
  {
   "attachments": {},
   "cell_type": "markdown",
   "metadata": {},
   "source": [
    "<details><summary>メッセージ</summary>\n",
    "\n",
    "~~~jsonc\n",
    "\"QXOMa0me8XqV5N3gZpJp6caxj0OL5DWCQzXts2BaWRg=\"\n",
    "{\n",
    "    \"destination\": \"U2a2ab21afd4a1c84aa22c17033860dd4\", // ユーザーのID？（検証時も同じものを使用している）\n",
    "    \"events\": [ // イベントの各種情報\n",
    "        {\n",
    "            \"type\": \"message\", // イベントの種類(message,)\n",
    "            \"message\": { // メッセージ内の情報\n",
    "                \"type\": \"text\", // メッセージの種類\n",
    "                \"id\": \"458186106467778612\", // 何のID？\n",
    "                \"text\": \"公式ダイレクトサンプル\" // 入力されたメッセージ\n",
    "            },\n",
    "            \"webhookEventId\": \"01H24NJDSSN2W30ZTSXGDH37K8\",\n",
    "            \"deliveryContext\": {\n",
    "                \"isRedelivery\": false\n",
    "            },\n",
    "            \"timestamp\": 1685931505236,\n",
    "            \"source\": {\n",
    "                \"type\": \"user\", // メッセージの発信者\n",
    "                \"userId\": \"Uf6e2c78c0239e0dd23dd613776284c06\" // 発信者のユーザーID\n",
    "            },\n",
    "            \"replyToken\": \"540cf3677aab48978bd96e2770d2bee1\",\n",
    "            \"mode\": \"active\"\n",
    "        }\n",
    "    ]\n",
    "}\n",
    "~~~\n",
    "</details>"
   ]
  },
  {
   "attachments": {},
   "cell_type": "markdown",
   "metadata": {},
   "source": [
    "<details><summary>スタンプ（静止画）</summary>\n",
    "\n",
    "~~~jsonc\n",
    "\"/Tka9mvMiltRIu7P7Z3gQ6pPq9XOv5WeMXtNtk6ZJPI=\"\n",
    "{\n",
    "    \"destination\": \"U2a2ab21afd4a1c84aa22c17033860dd4\",\n",
    "    \"events\": [\n",
    "        {\n",
    "            \"type\": \"message\",\n",
    "            \"message\": {\n",
    "                \"type\": \"text\",\n",
    "                \"id\": \"458204846819639586\",\n",
    "                \"text\": \"(thumbs up)\",\n",
    "                \"emojis\": [\n",
    "                    {\n",
    "                        \"index\": 0,\n",
    "                        \"length\": 11,\n",
    "                        \"productId\": \"5ac21e6c040ab15980c9b444\",\n",
    "                        \"emojiId\": \"002\"\n",
    "                    }\n",
    "                ]\n",
    "            },\n",
    "            \"webhookEventId\": \"01H2507A7H0R0253FRY0GGBGKB\",\n",
    "            \"deliveryContext\": {\n",
    "                \"isRedelivery\": false\n",
    "            },\n",
    "            \"timestamp\": 1685942675365,\n",
    "            \"source\": {\n",
    "                \"type\": \"user\",\n",
    "                \"userId\": \"Uf6e2c78c0239e0dd23dd613776284c06\"\n",
    "            },\n",
    "            \"replyToken\": \"2e185b68eaf540be9c7a6996031aec22\",\n",
    "            \"mode\": \"active\"\n",
    "        }\n",
    "    ]\n",
    "}\n",
    "~~~\n",
    "</details>"
   ]
  },
  {
   "attachments": {},
   "cell_type": "markdown",
   "metadata": {},
   "source": [
    "<details><summary>スタンプ（静止画 音あり）無し</summary>\n",
    "</details>"
   ]
  },
  {
   "cell_type": "markdown",
   "metadata": {},
   "source": [
    "<details><summary>スタンプ（Gif）</summary>\n",
    "\n",
    "~~~jsonc\n",
    "'1iNoiKiXnML7z7+eBzEYGck/mGll3StzScWLwUOf0lc='\n",
    "{\n",
    "    \"destination\": \"U2a2ab21afd4a1c84aa22c17033860dd4\",\n",
    "    \"events\": [\n",
    "        {\n",
    "            \"type\": \"message\",\n",
    "            \"message\": {\n",
    "                \"type\": \"sticker\",\n",
    "                \"id\": \"458205361578181217\",\n",
    "                \"stickerId\": \"52002739\",\n",
    "                \"packageId\": \"11537\",\n",
    "                \"stickerResourceType\": \"ANIMATION\",\n",
    "                \"keywords\": [\n",
    "                    \"Thanks\",\n",
    "                    \"appreciate\",\n",
    "                    \"Bowing\",\n",
    "                    \"Pleading\",\n",
    "                    \"thankful\",\n",
    "                    \"thanksforeverything\",\n",
    "                    \"Please\",\n",
    "                    \"brown\",\n",
    "                    \"grateful\",\n",
    "                    \"line\"\n",
    "                ]\n",
    "            },\n",
    "            \"webhookEventId\": \"01H250GNQY71E9G593PXENSDH4\",\n",
    "            \"deliveryContext\": {\n",
    "                \"isRedelivery\": false\n",
    "            },\n",
    "            \"timestamp\": 1685942982129,\n",
    "            \"source\": {\n",
    "                \"type\": \"user\",\n",
    "                \"userId\": \"Uf6e2c78c0239e0dd23dd613776284c06\"\n",
    "            },\n",
    "            \"replyToken\": \"9219c93ab2194f2e83a3214a4eb342f1\",\n",
    "            \"mode\": \"active\"\n",
    "        }\n",
    "    ]\n",
    "}\n",
    "~~~\n",
    "</details>"
   ]
  },
  {
   "attachments": {},
   "cell_type": "markdown",
   "metadata": {},
   "source": [
    "<details><summary>スタンプ（静止画）</summary>\n",
    "\n",
    "~~~jsonc\n",
    "'EOKuFeWk20+Yg0cDBTh5AjahsMUcru9hqlBtGHFZrcY='\n",
    "{\n",
    "    \"destination\": \"U2a2ab21afd4a1c84aa22c17033860dd4\",\n",
    "    \"events\": [\n",
    "        {\n",
    "            \"type\": \"message\",\n",
    "            \"message\": {\n",
    "                \"type\": \"sticker\",\n",
    "                \"id\": \"458206421361361157\",\n",
    "                \"stickerId\": \"94162021\",\n",
    "                \"packageId\": \"12403\",\n",
    "                \"stickerResourceType\": \"ANIMATION_SOUND\"\n",
    "            },\n",
    "            \"webhookEventId\": \"01H2513YTB420116DMF489YWQN\",\n",
    "            \"deliveryContext\": {\n",
    "                \"isRedelivery\": false\n",
    "            },\n",
    "            \"timestamp\": 1685943613946,\n",
    "            \"source\": {\n",
    "                \"type\": \"user\",\n",
    "                \"userId\": \"Uf6e2c78c0239e0dd23dd613776284c06\"\n",
    "            },\n",
    "            \"replyToken\": \"e774d63c3d5f4377908bc94bb63e9deb\",\n",
    "            \"mode\": \"active\"\n",
    "        }\n",
    "    ]\n",
    "}\n",
    "~~~\n",
    "</details>"
   ]
  },
  {
   "cell_type": "code",
   "execution_count": null,
   "metadata": {
    "vscode": {
     "languageId": "javascript"
    }
   },
   "outputs": [],
   "source": [
    "'QXOMa0me8XqV5N3gZpJp6caxj0OL5DWCQzXts2BaWRg='\n",
    "{\n",
    "    \"destination\": \"U2a2ab21afd4a1c84aa22c17033860dd4\", // ユーザーのID？（検証時も同じものを使用している）\n",
    "    \"events\": [ // イベントの各種情報\n",
    "        {\n",
    "            \"type\": \"message\", // イベントの種類(message,)\n",
    "            \"message\": { // メッセージ内の情報\n",
    "                \"type\": \"text\", // メッセージの種類\n",
    "                \"id\": \"458186106467778612\", // 何のID？\n",
    "                \"text\": \"公式ダイレクトサンプル\" // 入力されたメッセージ\n",
    "            },\n",
    "            \"webhookEventId\": \"01H24NJDSSN2W30ZTSXGDH37K8\",\n",
    "            \"deliveryContext\": {\n",
    "                \"isRedelivery\": false\n",
    "            },\n",
    "            \"timestamp\": 1685931505236,\n",
    "            \"source\": {\n",
    "                \"type\": \"user\", // メッセージの発信者\n",
    "                \"userId\": \"Uf6e2c78c0239e0dd23dd613776284c06\" // 発信者のユーザーID\n",
    "            },\n",
    "            \"replyToken\": \"540cf3677aab48978bd96e2770d2bee1\",\n",
    "            \"mode\": \"active\"\n",
    "        }\n",
    "    ]\n",
    "}"
   ]
  },
  {
   "attachments": {},
   "cell_type": "markdown",
   "metadata": {},
   "source": [
    "### スタンプ_Gif"
   ]
  },
  {
   "cell_type": "code",
   "execution_count": null,
   "metadata": {
    "vscode": {
     "languageId": "javascript"
    }
   },
   "outputs": [],
   "source": [
    "// スタンプ(動くタイプ)を入れた場合\n",
    "{\n",
    "    \"destination\": \"U2a2ab21afd4a1c84aa22c17033860dd4\",\n",
    "    \"events\": [\n",
    "        {\n",
    "            \"type\": \"message\",\n",
    "            \"message\": {\n",
    "                \"type\": \"sticker\",\n",
    "                \"id\": \"458086073643041155\",\n",
    "                \"stickerId\": \"94162001\",\n",
    "                \"packageId\": \"12403\",\n",
    "                \"stickerResourceType\": \"ANIMATION_SOUND\", // スタンプの種類\n",
    "                \"keywords\": [ // スタンプに設定されている、各種ワード\n",
    "                    \"Love you\",\n",
    "                    \"Swoon\",\n",
    "                    \"Heart\",\n",
    "                    \"Lovestruck\",\n",
    "                    \"Love\"\n",
    "                ]\n",
    "            },\n",
    "            \"webhookEventId\": \"01H22WPV3Y1BB5XCSBZ0FQPHSG\",\n",
    "            \"deliveryContext\": {\n",
    "                \"isRedelivery\": false\n",
    "            },\n",
    "            \"timestamp\": 1685871881024, // イベントの送信時間\n",
    "            \"source\": {\n",
    "                \"type\": \"user\",\n",
    "                \"userId\": \"Uf6e2c78c0239e0dd23dd613776284c06\"\n",
    "            },\n",
    "            \"replyToken\": \"39b3a7eb4ff542369959e5fd1573ff4a\", // イベント返信用のトークン\n",
    "            \"mode\": \"active\"\n",
    "        }\n",
    "    ]\n",
    "}"
   ]
  }
 ],
 "metadata": {
  "kernelspec": {
   "display_name": "base",
   "language": "python",
   "name": "python3"
  },
  "language_info": {
   "codemirror_mode": {
    "name": "ipython",
    "version": 3
   },
   "file_extension": ".py",
   "mimetype": "text/x-python",
   "name": "python",
   "nbconvert_exporter": "python",
   "pygments_lexer": "ipython3",
   "version": "3.10.9"
  },
  "orig_nbformat": 4
 },
 "nbformat": 4,
 "nbformat_minor": 2
}
