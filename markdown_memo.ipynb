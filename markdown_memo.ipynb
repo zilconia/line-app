{
 "cells": [
  {
   "attachments": {},
   "cell_type": "markdown",
   "metadata": {},
   "source": [
    "# 見出し1\n",
    "## 見出し2\n",
    "### 見出し3\n",
    "#### 見出し4\n",
    "##### 見出し5\n",
    "###### 見出し6"
   ]
  },
  {
   "attachments": {},
   "cell_type": "markdown",
   "metadata": {},
   "source": [
    "- リスト1\n",
    "    * ネスト リスト1_1\n",
    "        + ネスト リスト1_1_1\n",
    "        - ネスト リスト1_1_2\n",
    "        * ネスト リスト1_1_3\n",
    "    + ネスト リスト1_2\n",
    "    - ネスト リスト1_3\n",
    "* リスト2\n",
    "+ リスト3"
   ]
  },
  {
   "attachments": {},
   "cell_type": "markdown",
   "metadata": {},
   "source": [
    "1. 番号付きリスト1\n",
    "    1. 番号付きリスト1_1\n",
    "    2. 番号付きリスト1_2\n",
    "    1. 番号付きリスト1_3\n",
    "1. 番号付きリスト2\n",
    "1. 番号付きリスト3"
   ]
  },
  {
   "attachments": {},
   "cell_type": "markdown",
   "metadata": {},
   "source": [
    "> お世話になります。xxxです。\n",
    "> \n",
    "> ご連絡いただいた、バグの件ですが、仕様です。\n",
    ">> お世話になります。 yyyです。\n",
    ">> \n",
    ">> あの新機能バグってるっすね"
   ]
  },
  {
   "attachments": {},
   "cell_type": "markdown",
   "metadata": {},
   "source": [
    "    # Tab\n",
    "    class Hoge\n",
    "        def hoge\n",
    "            print 'hoge'\n",
    "        end\n",
    "    end\n",
    "\n",
    "---\n",
    "\n",
    "    # Space\n",
    "    class Hoge\n",
    "      def hoge\n",
    "        print 'hoge'\n",
    "      end\n",
    "    end"
   ]
  },
  {
   "attachments": {},
   "cell_type": "markdown",
   "metadata": {},
   "source": [
    "インストールコマンドは `gem install hoge` です"
   ]
  },
  {
   "attachments": {},
   "cell_type": "markdown",
   "metadata": {},
   "source": [
    "normal *italic* normal  \n",
    "normal _italic_ normal"
   ]
  },
  {
   "attachments": {},
   "cell_type": "markdown",
   "metadata": {},
   "source": [
    "normal **bold** normal  \n",
    "normal __bold__ normal"
   ]
  },
  {
   "attachments": {},
   "cell_type": "markdown",
   "metadata": {},
   "source": [
    "normal ***bold*** normal  \n",
    "normal ___bold___ normal"
   ]
  },
  {
   "attachments": {},
   "cell_type": "markdown",
   "metadata": {},
   "source": [
    "***\n",
    "___\n",
    "---\n",
    "* *   *"
   ]
  },
  {
   "attachments": {},
   "cell_type": "markdown",
   "metadata": {},
   "source": [
    "[Google先生](https://www.google.co.jp/)"
   ]
  },
  {
   "attachments": {},
   "cell_type": "markdown",
   "metadata": {},
   "source": [
    "[こっちからgoogle][google]  \n",
    "その他の文章  \n",
    "[こっちからもgoogle][google]  \n",
    "\n",
    "[google]: https://www.google.co.jp/"
   ]
  },
  {
   "attachments": {},
   "cell_type": "markdown",
   "metadata": {},
   "source": [
    "https://www.google.co.jp/"
   ]
  },
  {
   "attachments": {},
   "cell_type": "markdown",
   "metadata": {},
   "source": [
    "~~取り消し線~~"
   ]
  },
  {
   "attachments": {},
   "cell_type": "markdown",
   "metadata": {},
   "source": [
    "~~~\n",
    "　class Hoge\n",
    "　  def hoge\n",
    "　    print 'hoge'\n",
    "　  end\n",
    "　end\n",
    "~~~\n",
    "```\n",
    "　class Hoge\n",
    "　  def hoge\n",
    "　    print 'hoge'\n",
    "　  end\n",
    "　end\n",
    "```"
   ]
  },
  {
   "attachments": {},
   "cell_type": "markdown",
   "metadata": {},
   "source": [
    "~~~ruby\n",
    "　class Hoge\n",
    "　  def hoge\n",
    "　    print 'hoge'\n",
    "　  end\n",
    "　end\n",
    "~~~"
   ]
  },
  {
   "attachments": {},
   "cell_type": "markdown",
   "metadata": {},
   "source": [
    "|header1|header2|header3|\n",
    "|:--|--:|:--:|\n",
    "|align left|align right|align center|\n",
    "|a|b|c|"
   ]
  },
  {
   "attachments": {},
   "cell_type": "markdown",
   "metadata": {},
   "source": [
    "## menu\n",
    "* [to header1](#header1)\n",
    "* [to header2](#header2)\n",
    "\n",
    "<!-- some long code -->\n",
    "\n",
    "[return to menu](#menu)\n",
    "### header1\n",
    "### header2"
   ]
  },
  {
   "attachments": {},
   "cell_type": "markdown",
   "metadata": {},
   "source": [
    "<details>\n",
    "<summary>xxx</summary>\n",
    "\n",
    "aaaaaaaaaaaaaaaaaaaaa\n",
    "bbbbbbbbbbbbbbbbbbb\n",
    "ccccccccccccccccccccc\n",
    "</details>"
   ]
  },
  {
   "attachments": {},
   "cell_type": "markdown",
   "metadata": {},
   "source": [
    "### info\n",
    "\n",
    "aaa[^1]\n",
    "\n",
    "[^1]: ###info"
   ]
  },
  {
   "attachments": {},
   "cell_type": "markdown",
   "metadata": {},
   "source": [
    "右の文字は　<!-- 何も表示されない -->"
   ]
  },
  {
   "attachments": {},
   "cell_type": "markdown",
   "metadata": {},
   "source": [
    ":::note info\n",
    "インフォメーション\n",
    "infoは省略可能です。\n",
    ":::\n",
    "\n",
    ":::note warn\n",
    "警告\n",
    "○○に注意してください。\n",
    ":::\n",
    "\n",
    ":::note alert\n",
    "より強い警告\n",
    "○○しないでください。\n",
    ":::"
   ]
  },
  {
   "attachments": {},
   "cell_type": "markdown",
   "metadata": {},
   "source": [
    "- [ ]"
   ]
  }
 ],
 "metadata": {
  "language_info": {
   "name": "python"
  },
  "orig_nbformat": 4
 },
 "nbformat": 4,
 "nbformat_minor": 2
}
